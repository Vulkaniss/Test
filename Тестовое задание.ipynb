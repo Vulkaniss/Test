{
 "cells": [
  {
   "cell_type": "markdown",
   "id": "7e815f66",
   "metadata": {},
   "source": [
    "<h1>Тестовое задание.</h1>"
   ]
  },
  {
   "cell_type": "markdown",
   "id": "dd9b2290",
   "metadata": {},
   "source": [
    "<h3>Загрузка данных</h3>\n",
    "<p>Скачаем данные, и обработаем их для ввода в базу данных.</p>"
   ]
  },
  {
   "cell_type": "code",
   "execution_count": 1,
   "id": "a16e67f1",
   "metadata": {},
   "outputs": [],
   "source": [
    "import pandas as pd\n",
    "\n",
    "data = pd.read_csv('data_test.csv', sep=';')\n",
    "data = data.rename(columns={'id события': 'id', 'ФИО участника события 1':'person_1', 'ФИО участника события 2':'person_2'})"
   ]
  },
  {
   "cell_type": "code",
   "execution_count": 2,
   "id": "bd83c83f",
   "metadata": {},
   "outputs": [],
   "source": [
    "person_1 = data.person_1\n",
    "person_2 = data.person_2\n",
    "#запишем всех участников из первого и второго столбца в одну переменную\n",
    "persons = pd.Series(person_1.to_list() + person_2.to_list())"
   ]
  },
  {
   "cell_type": "code",
   "execution_count": 3,
   "id": "4f9e5437",
   "metadata": {},
   "outputs": [
    {
     "data": {
      "text/plain": [
       "9899"
      ]
     },
     "execution_count": 3,
     "metadata": {},
     "output_type": "execute_result"
    }
   ],
   "source": [
    "#проверим, число уникальных значений в переменной person и в person_1 и person_2 вместе \n",
    "persons.nunique()"
   ]
  },
  {
   "cell_type": "code",
   "execution_count": 4,
   "id": "35567fad",
   "metadata": {},
   "outputs": [
    {
     "data": {
      "text/plain": [
       "9924"
      ]
     },
     "execution_count": 4,
     "metadata": {},
     "output_type": "execute_result"
    }
   ],
   "source": [
    "data.person_1.nunique() + data.person_2.nunique()"
   ]
  },
  {
   "cell_type": "markdown",
   "id": "08520b63",
   "metadata": {},
   "source": [
    "Видим, что в переменной person меньше уникальных значений.  \n",
    "Это значит, что есть участники, которые встречаются и в перовой и второй колонке.\n",
    "<br><br>\n",
    "Запишем всех участников в один файл <i>persons.csv</i>, чтобы далее загрузить их в базу данных."
   ]
  },
  {
   "cell_type": "code",
   "execution_count": 5,
   "id": "bde470c5",
   "metadata": {},
   "outputs": [],
   "source": [
    "pd.DataFrame(persons.unique(), columns=['person']).to_csv('persons.csv', encoding='utf-16', index=False)"
   ]
  },
  {
   "cell_type": "markdown",
   "id": "574a606a",
   "metadata": {},
   "source": [
    "<h2>Загрузим данные непосредственно в базу данных</h2>\n",
    "<h3>Neo4j:</h3>"
   ]
  },
  {
   "cell_type": "markdown",
   "id": "317cd03b",
   "metadata": {},
   "source": [
    "![Атрибуты узла](pics/neo_schema_second.jpg \"Атрибуты узла\")\n",
    "![Атрибуты связи](pics/neo_schema_first.jpg \"Атрибуты связи\")"
   ]
  },
  {
   "cell_type": "markdown",
   "id": "ccb2d6e2",
   "metadata": {},
   "source": [
    "<h3>ArangoDB:</h3>"
   ]
  },
  {
   "cell_type": "markdown",
   "id": "20a37d01",
   "metadata": {},
   "source": [
    "<p>Для данной базы данных создадим 2 коллекции Person и Event, в перовой будут содержаться вершины, а во второй грани.</p>\n",
    "<p>Сначала загрузим ранее созданный файл persons.csv но конвертированный в формат json.</p>\n",
    "<p>После успешной загрузки скачаем данные из полученной коллекции, чтобы преобразовать файл со связями(заменить имена на id, полученные автоматически при загрузки данных в коллекцию):</p>"
   ]
  },
  {
   "cell_type": "code",
   "execution_count": 6,
   "id": "ab854b43",
   "metadata": {},
   "outputs": [],
   "source": [
    "import pandas as pd\n",
    "\n",
    "persons = pd.read_json('results-People.json')\n",
    "\n",
    "id = persons['_id']\n",
    "Name = persons['person']\n",
    "\n",
    "Name_key = dict(zip(Name, id))\n",
    "\n",
    "data_test = pd.read_csv('data_test.csv', sep=';')\n",
    "data_test = data_test.replace(Name_key).rename(columns={'id события': 'id_event', \n",
    "                                               'ФИО участника события 1': '_from',\n",
    "                                               'ФИО участника события 2': '_to'})\n",
    "data_test.to_csv('data_test_id.csv', index=False, encoding='utf-16')"
   ]
  },
  {
   "cell_type": "markdown",
   "id": "fc5142a2",
   "metadata": {},
   "source": [
    "<p>Теперь также конвертируем полученный файл в формат json и загрузим его в коллекцию Event.</p>\n",
    "<p>Теперь создаём граф со следующими параметрами. После этого графовая база данных создана.</p>\n",
    "\n",
    "![ArangoDB](pics/ArangoDB.jpg)\n",
    "\n",
    "<pre>\n",
    "Выведем 50 случайных вершин, чтобы посмотреть, как связаны данные\n",
    "\n",
    "FOR person IN Person\n",
    "    FOR v, e, p IN 1..5 ANY\n",
    "    person Event\n",
    "    LIMIT 50\n",
    "    RETURN p   \n",
    "        \n",
    "</pre>\n",
    "![Первый запрос Arango](pics/Arango_query(2).jpg)\n",
    "\n",
    "<p>Скорее всего, большинство вершин имеют всего одну связь. Выведем вершины, которые имеют больше 1 грани.</p>\n",
    "<pre>\n",
    "\n",
    "FOR person IN Person\n",
    "    FOR v, e, p IN 1..5 ANY\n",
    "    person Event\n",
    "    COLLECT per = v._id\n",
    "    WITH COUNT INTO length\n",
    "    FILTER length > 2\n",
    "        FOR v, e, p IN 1..1 ANY\n",
    "        per\n",
    "        GRAPH Events  \n",
    "        RETURN e  \n",
    "           \n",
    "</pre>\n",
    "        \n",
    "![Первый запрос Arango](pics/arango_query.jpg)"
   ]
  },
  {
   "cell_type": "markdown",
   "id": "2c5a35c2",
   "metadata": {},
   "source": [
    "<h2>Поиск взаимосвязей(Neo4j)</h2>\n",
    "<p>Посмотрим, как располагаются данные</p>\n",
    "    \n",
    "![Первый запрос](pics/query_first.jpg)\n",
    "\n",
    "<p>Судя по всему, большинство узлов имеют всего одну связь. Также это было понятно по числу уникальных значений, что всего 101 раз какие-то узлы встречались повторно.</p>\n",
    "<p>Посмотрим, есть ли узлы, имеющие больше двух связей:</p>\n",
    "\n",
    "![Второй запрос](pics/query_second.jpg)\n",
    "\n",
    "<p> Можем увидеть, что существует 6 связанных графов. Остальные узлы существуют только парами. </p>\n",
    "<p> При чем эти 6 графов можно разделить на группы. У нас есть 3 графа которые имеют одну вершину, которая связанна со всеми остальными(графы а, б, д на картинке выше). Граф е состоит из 2 таких же графов, соединенных между собой выделенной на рисунке вершиной. Это первая группа графов. Вторая группа это граф в, который состоит из цепочки вершин, и граф г, который состоит из двух цепочек, которые соединены выделенным ребром.</p>\n",
    "<p> Так как известно, что эти вершины обозначают людей, можно сделать вывод, что графы представляют собой социальные связи и существует 3 формы связей:</p>\n",
    "\n",
    "* пары(просто 2 связанные вершины);\n",
    "* графы с одной вершинной, связанной со всеми остальными(их можно назвать деревьями, если не учитывать направления дуг);\n",
    "* цепочки.\n",
    "\n",
    "<p> Посмотрим, много ли участников имеют больше двух связей и сколько связей они имеют всего:</p>\n",
    "\n",
    "![Третий запрос](pics/query_third.jpg)\n",
    "\n",
    "<p> Получим, что это всего 8 записей:</p>\n",
    "\n",
    "![Третий запрос(таблица)](pics/query_third(table).jpg)\n",
    "\n",
    "\n",
    "<p>Итак, можно сделать вывод, что данные графы, отражают взаимодействия между людьми, при чем у большинства людей имеется только одна связь. Тем не менее есть и люди, у которых присутствует большое количество связей, относительно остальных. Можно предположить, что эти люди выполняют какие-то особенные роли или являются организаторами бизнес-процесса, являющегося источником имеющихся данных.</p>\n",
    "\n",
    "<p> Имея какие-либо ещё атрибуты у вершин, можно было бы сделать предположения о данных, по какому принципу объекты объединяются в группы или почему некоторые узлы имеют так много связей.</p>"
   ]
  },
  {
   "cell_type": "markdown",
   "id": "cb6e148a",
   "metadata": {},
   "source": [
    "<h2>Rest сервис для Neo4j:</h2>"
   ]
  },
  {
   "cell_type": "code",
   "execution_count": 7,
   "id": "52a96871",
   "metadata": {},
   "outputs": [],
   "source": [
    "from neo4j import GraphDatabase\n",
    "import logging\n",
    "from neo4j.exceptions import ServiceUnavailable\n",
    "\n",
    "\n",
    "class App:\n",
    "    def __init__(self, uri, user, password):\n",
    "        self.driver = GraphDatabase.driver(uri, auth=(user, password))\n",
    "\n",
    "    def close(self):\n",
    "        # Don't forget to close the driver connection when you are finished with it\n",
    "        self.driver.close()\n",
    "\n",
    "    def create_person(self):\n",
    "        with self.driver.session(database=\"neo4j\") as session:\n",
    "            print(\"Введите ФИО участника полностью:\")\n",
    "            person_name = input()\n",
    "            result = session.execute_write(\n",
    "                self._create_person, person_name)\n",
    "            for row in result:\n",
    "                print(\"Создан участник: {p1}\".format(p1=row['p1']))\n",
    "\n",
    "    @staticmethod\n",
    "    def _create_person(tx, person_name):\n",
    "        query = (\n",
    "            \"CREATE (p1:participant { Name: $person_name }) \"\n",
    "            \"RETURN p1\"\n",
    "        )\n",
    "        result = tx.run(query, person_name=person_name)\n",
    "        try:\n",
    "            return [{\"p1\": row[\"p1\"][\"Name\"]}\n",
    "                    for row in result]\n",
    "        except ServiceUnavailable as exception:\n",
    "            logging.error(\"{query} raised an error: \\n {exception}\".format(\n",
    "                query=query, exception=exception))\n",
    "            raise\n",
    "\n",
    "    def find_person(self):\n",
    "        print(\"Введите ФИО участника полностью:\")\n",
    "        person_name = input()\n",
    "        with self.driver.session() as session:\n",
    "            result = session.execute_read(self._find_and_return_person, person_name)\n",
    "            return result\n",
    "\n",
    "    @staticmethod\n",
    "    def _find_and_return_person(tx, person_name):\n",
    "        query = (\n",
    "            \"MATCH (p:participant) \"\n",
    "            \"WHERE p.Name = $person_name \"\n",
    "            \"RETURN p, ID(p)\"\n",
    "        )\n",
    "        result = tx.run(query, person_name=person_name)\n",
    "        return [record.data() for record in result]\n",
    "\n",
    "\n",
    "if __name__ == \"__main__\":\n",
    "    uri = \"neo4j+s://76720b56.databases.neo4j.io\"\n",
    "    user = \"neo4j\"\n",
    "    password = \"8wn7SBb35T68SeY9aiTC1W1Y-d6m1cTh2nVC_0h2D2Q\""
   ]
  },
  {
   "cell_type": "code",
   "execution_count": 8,
   "id": "7ac352e8",
   "metadata": {},
   "outputs": [
    {
     "name": "stdout",
     "output_type": "stream",
     "text": [
      "Введите ФИО участника полностью:\n",
      "Мамонов Александр Александрович\n",
      "Создан участник: Мамонов Александр Александрович\n"
     ]
    }
   ],
   "source": [
    "app = App(uri, user, password)\n",
    "app.create_person()\n",
    "app.close()"
   ]
  },
  {
   "cell_type": "code",
   "execution_count": 9,
   "id": "c24d23f7",
   "metadata": {},
   "outputs": [
    {
     "name": "stdout",
     "output_type": "stream",
     "text": [
      "Введите ФИО участника полностью:\n",
      "Мамонов Александр Александрович\n",
      "[{'p': {'Name': 'Мамонов Александр Александрович'}, 'ID(p)': 596}]\n"
     ]
    }
   ],
   "source": [
    "app = App(uri, user, password)\n",
    "result = app.find_person()\n",
    "print(result)\n",
    "app.close()"
   ]
  },
  {
   "cell_type": "markdown",
   "id": "f4dee226",
   "metadata": {},
   "source": [
    "<h2>Rest сервис для ArangoDB:</h2>"
   ]
  },
  {
   "cell_type": "code",
   "execution_count": 10,
   "id": "2546bb2a",
   "metadata": {},
   "outputs": [],
   "source": [
    "from pyArango.connection import *\n",
    "\n",
    "def create_person(connection):\n",
    "    print(\"Введите ФИО участника полностью:\")\n",
    "    person_name = input()\n",
    "    query = ( \n",
    "        \"INSERT {\"\n",
    "        \"person: '\" + person_name +\n",
    "        \"'} INTO Person\"\n",
    "    )\n",
    "    Database(connection, 'People').AQLQuery(query)\n",
    "    print(\"Создан участник: {p1}\".format(p1=person_name))\n",
    "    \n",
    "def find_person(connection):\n",
    "    print(\"Введите ФИО участника полностью:\")\n",
    "    person_name = input()\n",
    "    query = ( \n",
    "        \"FOR per IN Person \" \n",
    "        \"FILTER per.person == '\"+ person_name + \"' \"\n",
    "        \"RETURN per\"\n",
    "    )\n",
    "    result = Database(connection, 'People').AQLQuery(query)\n",
    "    return result\n",
    "\n",
    "if __name__==\"__main__\":\n",
    "    url = \"https://26e19b52c692.arangodb.cloud:8529/\"\n",
    "    user = \"root\"\n",
    "    password = \"DN9HftSvcy4XExANCBG5\"\n",
    "    conn = Connection(arangoURL=url, username=user, password=password)\n",
    "    conn.resetSession(user, password)"
   ]
  },
  {
   "cell_type": "code",
   "execution_count": 11,
   "id": "8d69d6b3",
   "metadata": {},
   "outputs": [
    {
     "name": "stdout",
     "output_type": "stream",
     "text": [
      "Введите ФИО участника полностью:\n",
      "Мамонов Александр Александрович\n",
      "Создан участник: Мамонов Александр Александрович\n"
     ]
    }
   ],
   "source": [
    "conn = Connection(arangoURL=url, username=user, password=password)\n",
    "create_person(conn)\n",
    "conn.resetSession(user, password)"
   ]
  },
  {
   "cell_type": "code",
   "execution_count": 12,
   "id": "2fd3e580",
   "metadata": {},
   "outputs": [
    {
     "name": "stdout",
     "output_type": "stream",
     "text": [
      "Введите ФИО участника полностью:\n",
      "Мамонов Александр Александрович\n",
      "[{'_key': '93234', '_id': 'Person/93234', '_rev': '_foyahDe--_', 'person': 'Мамонов Александр Александрович'}]\n"
     ]
    }
   ],
   "source": [
    "conn = Connection(arangoURL=url, username=user, password=password)\n",
    "result = find_person(conn)\n",
    "print(result)\n",
    "conn.resetSession(user, password)"
   ]
  }
 ],
 "metadata": {
  "kernelspec": {
   "display_name": "Python 3 (ipykernel)",
   "language": "python",
   "name": "python3"
  },
  "language_info": {
   "codemirror_mode": {
    "name": "ipython",
    "version": 3
   },
   "file_extension": ".py",
   "mimetype": "text/x-python",
   "name": "python",
   "nbconvert_exporter": "python",
   "pygments_lexer": "ipython3",
   "version": "3.9.7"
  }
 },
 "nbformat": 4,
 "nbformat_minor": 5
}
